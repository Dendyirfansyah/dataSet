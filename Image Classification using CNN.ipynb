{
 "cells": [
  {
   "cell_type": "markdown",
   "metadata": {},
   "source": [
    "<h3>1. Import module yang dibutuhkan</h3>"
   ]
  },
  {
   "cell_type": "code",
   "execution_count": 1,
   "metadata": {},
   "outputs": [],
   "source": [
    "from sklearn.model_selection import train_test_split\n",
    "from sklearn.preprocessing import LabelEncoder\n",
    "from sklearn.metrics import classification_report\n",
    "from tensorflow.keras.models import Sequential\n",
    "from tensorflow.keras.layers import InputLayer, Flatten, Dense, Conv2D, MaxPool2D, Dropout\n",
    "from tensorflow.keras.optimizers import Adam\n",
    "import numpy as np\n",
    "import cv2\n",
    "import glob\n",
    "import matplotlib.pyplot as plt"
   ]
  },
  {
   "cell_type": "markdown",
   "metadata": {},
   "source": [
    "<h3>2. Load Dataset</h3>"
   ]
  },
  {
   "cell_type": "code",
   "execution_count": 3,
   "metadata": {},
   "outputs": [],
   "source": [
    "imagePaths = 'dataset\\\\animal_elw\\\\'\n",
    "label_list = ['elephant', 'lion']\n",
    "data = []\n",
    "labels = []"
   ]
  },
  {
   "cell_type": "code",
   "execution_count": 4,
   "metadata": {},
   "outputs": [],
   "source": [
    "for label in label_list:\n",
    "    for imagePath in glob.glob(imagePaths+label+'\\\\*.jpg'):\n",
    "        #print(imagePath)\n",
    "        image = cv2.imread(imagePath)\n",
    "        image = cv2.resize(image, (32, 32))\n",
    "        data.append(image)\n",
    "        labels.append(label)"
   ]
  },
  {
   "cell_type": "code",
   "execution_count": 5,
   "metadata": {},
   "outputs": [
    {
     "data": {
      "text/plain": [
       "(200, 32, 32, 3)"
      ]
     },
     "execution_count": 5,
     "metadata": {},
     "output_type": "execute_result"
    }
   ],
   "source": [
    "np.array(data).shape"
   ]
  },
  {
   "cell_type": "markdown",
   "metadata": {},
   "source": [
    "<h3>3. Data Preprocessing</h3>"
   ]
  },
  {
   "cell_type": "code",
   "execution_count": 6,
   "metadata": {},
   "outputs": [],
   "source": [
    "# ubah type data dari list menjadi array\n",
    "# ubah nilai dari tiap pixel menjadi range [0..1]\n",
    "data = np.array(data, dtype='float') / 255.0\n",
    "labels = np.array(labels)"
   ]
  },
  {
   "cell_type": "code",
   "execution_count": 7,
   "metadata": {},
   "outputs": [
    {
     "name": "stdout",
     "output_type": "stream",
     "text": [
      "['elephant' 'elephant' 'elephant' 'elephant' 'elephant' 'elephant'\n",
      " 'elephant' 'elephant' 'elephant' 'elephant' 'elephant' 'elephant'\n",
      " 'elephant' 'elephant' 'elephant' 'elephant' 'elephant' 'elephant'\n",
      " 'elephant' 'elephant' 'elephant' 'elephant' 'elephant' 'elephant'\n",
      " 'elephant' 'elephant' 'elephant' 'elephant' 'elephant' 'elephant'\n",
      " 'elephant' 'elephant' 'elephant' 'elephant' 'elephant' 'elephant'\n",
      " 'elephant' 'elephant' 'elephant' 'elephant' 'elephant' 'elephant'\n",
      " 'elephant' 'elephant' 'elephant' 'elephant' 'elephant' 'elephant'\n",
      " 'elephant' 'elephant' 'elephant' 'elephant' 'elephant' 'elephant'\n",
      " 'elephant' 'elephant' 'elephant' 'elephant' 'elephant' 'elephant'\n",
      " 'elephant' 'elephant' 'elephant' 'elephant' 'elephant' 'elephant'\n",
      " 'elephant' 'elephant' 'elephant' 'elephant' 'elephant' 'elephant'\n",
      " 'elephant' 'elephant' 'elephant' 'elephant' 'elephant' 'elephant'\n",
      " 'elephant' 'elephant' 'elephant' 'elephant' 'elephant' 'elephant'\n",
      " 'elephant' 'elephant' 'elephant' 'elephant' 'elephant' 'elephant'\n",
      " 'elephant' 'elephant' 'elephant' 'elephant' 'elephant' 'elephant'\n",
      " 'elephant' 'elephant' 'elephant' 'elephant' 'lion' 'lion' 'lion' 'lion'\n",
      " 'lion' 'lion' 'lion' 'lion' 'lion' 'lion' 'lion' 'lion' 'lion' 'lion'\n",
      " 'lion' 'lion' 'lion' 'lion' 'lion' 'lion' 'lion' 'lion' 'lion' 'lion'\n",
      " 'lion' 'lion' 'lion' 'lion' 'lion' 'lion' 'lion' 'lion' 'lion' 'lion'\n",
      " 'lion' 'lion' 'lion' 'lion' 'lion' 'lion' 'lion' 'lion' 'lion' 'lion'\n",
      " 'lion' 'lion' 'lion' 'lion' 'lion' 'lion' 'lion' 'lion' 'lion' 'lion'\n",
      " 'lion' 'lion' 'lion' 'lion' 'lion' 'lion' 'lion' 'lion' 'lion' 'lion'\n",
      " 'lion' 'lion' 'lion' 'lion' 'lion' 'lion' 'lion' 'lion' 'lion' 'lion'\n",
      " 'lion' 'lion' 'lion' 'lion' 'lion' 'lion' 'lion' 'lion' 'lion' 'lion'\n",
      " 'lion' 'lion' 'lion' 'lion' 'lion' 'lion' 'lion' 'lion' 'lion' 'lion'\n",
      " 'lion' 'lion' 'lion' 'lion' 'lion' 'lion']\n"
     ]
    }
   ],
   "source": [
    "print(labels)"
   ]
  },
  {
   "cell_type": "code",
   "execution_count": 8,
   "metadata": {},
   "outputs": [
    {
     "name": "stdout",
     "output_type": "stream",
     "text": [
      "[0 0 0 0 0 0 0 0 0 0 0 0 0 0 0 0 0 0 0 0 0 0 0 0 0 0 0 0 0 0 0 0 0 0 0 0 0\n",
      " 0 0 0 0 0 0 0 0 0 0 0 0 0 0 0 0 0 0 0 0 0 0 0 0 0 0 0 0 0 0 0 0 0 0 0 0 0\n",
      " 0 0 0 0 0 0 0 0 0 0 0 0 0 0 0 0 0 0 0 0 0 0 0 0 0 0 1 1 1 1 1 1 1 1 1 1 1\n",
      " 1 1 1 1 1 1 1 1 1 1 1 1 1 1 1 1 1 1 1 1 1 1 1 1 1 1 1 1 1 1 1 1 1 1 1 1 1\n",
      " 1 1 1 1 1 1 1 1 1 1 1 1 1 1 1 1 1 1 1 1 1 1 1 1 1 1 1 1 1 1 1 1 1 1 1 1 1\n",
      " 1 1 1 1 1 1 1 1 1 1 1 1 1 1 1]\n"
     ]
    }
   ],
   "source": [
    "# ubah nilai dari labels menjadi binary\n",
    "lb = LabelEncoder()\n",
    "labels = lb.fit_transform(labels)\n",
    "print(labels)"
   ]
  },
  {
   "cell_type": "markdown",
   "metadata": {},
   "source": [
    "<h3>4. Split Dataset</h3>"
   ]
  },
  {
   "cell_type": "code",
   "execution_count": 9,
   "metadata": {},
   "outputs": [],
   "source": [
    "x_train, x_test, y_train, y_test = train_test_split(data, labels, test_size=0.2, random_state=42)"
   ]
  },
  {
   "cell_type": "code",
   "execution_count": 10,
   "metadata": {},
   "outputs": [
    {
     "name": "stdout",
     "output_type": "stream",
     "text": [
      "Ukuran data train = (160, 32, 32, 3)\n",
      "Ukuran data test = (40, 32, 32, 3)\n"
     ]
    }
   ],
   "source": [
    "print('Ukuran data train =', x_train.shape)\n",
    "print('Ukuran data test =', x_test.shape)"
   ]
  },
  {
   "cell_type": "markdown",
   "metadata": {},
   "source": [
    "<h3>5. Build CNN Architecture</h3>"
   ]
  },
  {
   "cell_type": "code",
   "execution_count": 11,
   "metadata": {},
   "outputs": [],
   "source": [
    "model = Sequential()\n",
    "# Extracted Feature Layer\n",
    "model.add(InputLayer(input_shape=[32,32,3]))\n",
    "model.add(Conv2D(filters=32, kernel_size=2, strides=1, padding='same', activation='relu'))\n",
    "model.add(MaxPool2D(pool_size=2, padding='same'))\n",
    "model.add(Conv2D(filters=50, kernel_size=2, strides=1, padding='same', activation='relu'))\n",
    "model.add(MaxPool2D(pool_size=2, padding='same'))\n",
    "model.add(Dropout(0.25))\n",
    "model.add(Flatten())\n",
    "# Fully Connected Layer\n",
    "model.add(Dense(512, activation='relu'))\n",
    "model.add(Dropout(0.5))\n",
    "model.add(Dense(1, activation='sigmoid'))"
   ]
  },
  {
   "cell_type": "code",
   "execution_count": 12,
   "metadata": {},
   "outputs": [
    {
     "name": "stdout",
     "output_type": "stream",
     "text": [
      "Model: \"sequential\"\n",
      "_________________________________________________________________\n",
      " Layer (type)                Output Shape              Param #   \n",
      "=================================================================\n",
      " conv2d (Conv2D)             (None, 32, 32, 32)        416       \n",
      "                                                                 \n",
      " max_pooling2d (MaxPooling2D  (None, 16, 16, 32)       0         \n",
      " )                                                               \n",
      "                                                                 \n",
      " conv2d_1 (Conv2D)           (None, 16, 16, 50)        6450      \n",
      "                                                                 \n",
      " max_pooling2d_1 (MaxPooling  (None, 8, 8, 50)         0         \n",
      " 2D)                                                             \n",
      "                                                                 \n",
      " dropout (Dropout)           (None, 8, 8, 50)          0         \n",
      "                                                                 \n",
      " flatten (Flatten)           (None, 3200)              0         \n",
      "                                                                 \n",
      " dense (Dense)               (None, 512)               1638912   \n",
      "                                                                 \n",
      " dropout_1 (Dropout)         (None, 512)               0         \n",
      "                                                                 \n",
      " dense_1 (Dense)             (None, 1)                 513       \n",
      "                                                                 \n",
      "=================================================================\n",
      "Total params: 1,646,291\n",
      "Trainable params: 1,646,291\n",
      "Non-trainable params: 0\n",
      "_________________________________________________________________\n"
     ]
    }
   ],
   "source": [
    "model.summary()"
   ]
  },
  {
   "cell_type": "code",
   "execution_count": 13,
   "metadata": {},
   "outputs": [],
   "source": [
    "# tentukan hyperparameter\n",
    "lr = 0.001\n",
    "max_epochs = 100\n",
    "opt_funct = Adam(learning_rate=lr)"
   ]
  },
  {
   "cell_type": "code",
   "execution_count": 14,
   "metadata": {},
   "outputs": [],
   "source": [
    "# compile arsitektur yang telah dibuat\n",
    "model.compile(loss = 'binary_crossentropy', \n",
    "              optimizer = opt_funct, \n",
    "              metrics = ['accuracy'])"
   ]
  },
  {
   "cell_type": "markdown",
   "metadata": {},
   "source": [
    "<h3>6. Train Model</h3>"
   ]
  },
  {
   "cell_type": "code",
   "execution_count": 15,
   "metadata": {},
   "outputs": [
    {
     "name": "stdout",
     "output_type": "stream",
     "text": [
      "Epoch 1/100\n",
      "5/5 [==============================] - 1s 45ms/step - loss: 0.6829 - accuracy: 0.5625 - val_loss: 0.6579 - val_accuracy: 0.5250\n",
      "Epoch 2/100\n",
      "5/5 [==============================] - 0s 23ms/step - loss: 0.7117 - accuracy: 0.5500 - val_loss: 0.5731 - val_accuracy: 0.7750\n",
      "Epoch 3/100\n",
      "5/5 [==============================] - 0s 23ms/step - loss: 0.5829 - accuracy: 0.6875 - val_loss: 0.5392 - val_accuracy: 0.8250\n",
      "Epoch 4/100\n",
      "5/5 [==============================] - 0s 21ms/step - loss: 0.5560 - accuracy: 0.7688 - val_loss: 0.4868 - val_accuracy: 0.9500\n",
      "Epoch 5/100\n",
      "5/5 [==============================] - 0s 22ms/step - loss: 0.4437 - accuracy: 0.8562 - val_loss: 0.4699 - val_accuracy: 0.7500\n",
      "Epoch 6/100\n",
      "5/5 [==============================] - 0s 23ms/step - loss: 0.4070 - accuracy: 0.8625 - val_loss: 0.3750 - val_accuracy: 0.9500\n",
      "Epoch 7/100\n",
      "5/5 [==============================] - 0s 22ms/step - loss: 0.3533 - accuracy: 0.8562 - val_loss: 0.4352 - val_accuracy: 0.7250\n",
      "Epoch 8/100\n",
      "5/5 [==============================] - 0s 23ms/step - loss: 0.3336 - accuracy: 0.8625 - val_loss: 0.2912 - val_accuracy: 0.9750\n",
      "Epoch 9/100\n",
      "5/5 [==============================] - 0s 23ms/step - loss: 0.2449 - accuracy: 0.9438 - val_loss: 0.3070 - val_accuracy: 0.8250\n",
      "Epoch 10/100\n",
      "5/5 [==============================] - 0s 22ms/step - loss: 0.2612 - accuracy: 0.9000 - val_loss: 0.2586 - val_accuracy: 0.8750\n",
      "Epoch 11/100\n",
      "5/5 [==============================] - 0s 21ms/step - loss: 0.1994 - accuracy: 0.9375 - val_loss: 0.2076 - val_accuracy: 0.9750\n",
      "Epoch 12/100\n",
      "5/5 [==============================] - 0s 23ms/step - loss: 0.2137 - accuracy: 0.9250 - val_loss: 0.2918 - val_accuracy: 0.8250\n",
      "Epoch 13/100\n",
      "5/5 [==============================] - 0s 23ms/step - loss: 0.1699 - accuracy: 0.9438 - val_loss: 0.1903 - val_accuracy: 0.9750\n",
      "Epoch 14/100\n",
      "5/5 [==============================] - 0s 23ms/step - loss: 0.1688 - accuracy: 0.9375 - val_loss: 0.2207 - val_accuracy: 0.8750\n",
      "Epoch 15/100\n",
      "5/5 [==============================] - 0s 22ms/step - loss: 0.1394 - accuracy: 0.9750 - val_loss: 0.1602 - val_accuracy: 0.9750\n",
      "Epoch 16/100\n",
      "5/5 [==============================] - 0s 23ms/step - loss: 0.1106 - accuracy: 0.9812 - val_loss: 0.1551 - val_accuracy: 0.9500\n",
      "Epoch 17/100\n",
      "5/5 [==============================] - 0s 23ms/step - loss: 0.1072 - accuracy: 0.9812 - val_loss: 0.1446 - val_accuracy: 0.9750\n",
      "Epoch 18/100\n",
      "5/5 [==============================] - 0s 22ms/step - loss: 0.0946 - accuracy: 0.9688 - val_loss: 0.1577 - val_accuracy: 0.9250\n",
      "Epoch 19/100\n",
      "5/5 [==============================] - 0s 22ms/step - loss: 0.1031 - accuracy: 0.9688 - val_loss: 0.1228 - val_accuracy: 0.9750\n",
      "Epoch 20/100\n",
      "5/5 [==============================] - 0s 24ms/step - loss: 0.0811 - accuracy: 0.9812 - val_loss: 0.1713 - val_accuracy: 0.9250\n",
      "Epoch 21/100\n",
      "5/5 [==============================] - 0s 22ms/step - loss: 0.0730 - accuracy: 0.9812 - val_loss: 0.1249 - val_accuracy: 0.9750\n",
      "Epoch 22/100\n",
      "5/5 [==============================] - 0s 23ms/step - loss: 0.0698 - accuracy: 0.9688 - val_loss: 0.1981 - val_accuracy: 0.8750\n",
      "Epoch 23/100\n",
      "5/5 [==============================] - 0s 22ms/step - loss: 0.0627 - accuracy: 0.9875 - val_loss: 0.1218 - val_accuracy: 0.9750\n",
      "Epoch 24/100\n",
      "5/5 [==============================] - 0s 24ms/step - loss: 0.0654 - accuracy: 0.9812 - val_loss: 0.1555 - val_accuracy: 0.9000\n",
      "Epoch 25/100\n",
      "5/5 [==============================] - 0s 22ms/step - loss: 0.0792 - accuracy: 0.9812 - val_loss: 0.1305 - val_accuracy: 0.9750\n",
      "Epoch 26/100\n",
      "5/5 [==============================] - 0s 23ms/step - loss: 0.0787 - accuracy: 0.9750 - val_loss: 0.1981 - val_accuracy: 0.8750\n",
      "Epoch 27/100\n",
      "5/5 [==============================] - 0s 23ms/step - loss: 0.0717 - accuracy: 0.9812 - val_loss: 0.1235 - val_accuracy: 0.9500\n",
      "Epoch 28/100\n",
      "5/5 [==============================] - 0s 23ms/step - loss: 0.0630 - accuracy: 0.9812 - val_loss: 0.1282 - val_accuracy: 0.9500\n",
      "Epoch 29/100\n",
      "5/5 [==============================] - 0s 21ms/step - loss: 0.0528 - accuracy: 0.9875 - val_loss: 0.1171 - val_accuracy: 0.9500\n",
      "Epoch 30/100\n",
      "5/5 [==============================] - 0s 23ms/step - loss: 0.0340 - accuracy: 1.0000 - val_loss: 0.1291 - val_accuracy: 0.9500\n",
      "Epoch 31/100\n",
      "5/5 [==============================] - 0s 21ms/step - loss: 0.0475 - accuracy: 0.9875 - val_loss: 0.1120 - val_accuracy: 0.9500\n",
      "Epoch 32/100\n",
      "5/5 [==============================] - 0s 22ms/step - loss: 0.0340 - accuracy: 0.9812 - val_loss: 0.1089 - val_accuracy: 0.9750\n",
      "Epoch 33/100\n",
      "5/5 [==============================] - 0s 23ms/step - loss: 0.0237 - accuracy: 1.0000 - val_loss: 0.1139 - val_accuracy: 0.9750\n",
      "Epoch 34/100\n",
      "5/5 [==============================] - 0s 25ms/step - loss: 0.0347 - accuracy: 0.9875 - val_loss: 0.1464 - val_accuracy: 0.9250\n",
      "Epoch 35/100\n",
      "5/5 [==============================] - 0s 22ms/step - loss: 0.0258 - accuracy: 0.9937 - val_loss: 0.1110 - val_accuracy: 0.9750\n",
      "Epoch 36/100\n",
      "5/5 [==============================] - 0s 22ms/step - loss: 0.0284 - accuracy: 0.9937 - val_loss: 0.1200 - val_accuracy: 0.9500\n",
      "Epoch 37/100\n",
      "5/5 [==============================] - 0s 22ms/step - loss: 0.0258 - accuracy: 1.0000 - val_loss: 0.1062 - val_accuracy: 0.9750\n",
      "Epoch 38/100\n",
      "5/5 [==============================] - 0s 24ms/step - loss: 0.0267 - accuracy: 1.0000 - val_loss: 0.1024 - val_accuracy: 0.9500\n",
      "Epoch 39/100\n",
      "5/5 [==============================] - 0s 22ms/step - loss: 0.0280 - accuracy: 1.0000 - val_loss: 0.1044 - val_accuracy: 0.9750\n",
      "Epoch 40/100\n",
      "5/5 [==============================] - 0s 26ms/step - loss: 0.0308 - accuracy: 0.9937 - val_loss: 0.1734 - val_accuracy: 0.9250\n",
      "Epoch 41/100\n",
      "5/5 [==============================] - 0s 26ms/step - loss: 0.0171 - accuracy: 1.0000 - val_loss: 0.1036 - val_accuracy: 0.9750\n",
      "Epoch 42/100\n",
      "5/5 [==============================] - 0s 25ms/step - loss: 0.0272 - accuracy: 0.9937 - val_loss: 0.1035 - val_accuracy: 0.9500\n",
      "Epoch 43/100\n",
      "5/5 [==============================] - 0s 24ms/step - loss: 0.0134 - accuracy: 1.0000 - val_loss: 0.1228 - val_accuracy: 0.9250\n",
      "Epoch 44/100\n",
      "5/5 [==============================] - 0s 22ms/step - loss: 0.0168 - accuracy: 1.0000 - val_loss: 0.1009 - val_accuracy: 0.9750\n",
      "Epoch 45/100\n",
      "5/5 [==============================] - 0s 23ms/step - loss: 0.0126 - accuracy: 1.0000 - val_loss: 0.1092 - val_accuracy: 0.9500\n",
      "Epoch 46/100\n",
      "5/5 [==============================] - 0s 23ms/step - loss: 0.0230 - accuracy: 0.9937 - val_loss: 0.1001 - val_accuracy: 0.9750\n",
      "Epoch 47/100\n",
      "5/5 [==============================] - 0s 24ms/step - loss: 0.0173 - accuracy: 0.9937 - val_loss: 0.1268 - val_accuracy: 0.9000\n",
      "Epoch 48/100\n",
      "5/5 [==============================] - 0s 22ms/step - loss: 0.0182 - accuracy: 0.9937 - val_loss: 0.1083 - val_accuracy: 0.9750\n",
      "Epoch 49/100\n",
      "5/5 [==============================] - 0s 25ms/step - loss: 0.0127 - accuracy: 1.0000 - val_loss: 0.1112 - val_accuracy: 0.9250\n",
      "Epoch 50/100\n",
      "5/5 [==============================] - 0s 23ms/step - loss: 0.0114 - accuracy: 1.0000 - val_loss: 0.1098 - val_accuracy: 0.9250\n",
      "Epoch 51/100\n",
      "5/5 [==============================] - 0s 25ms/step - loss: 0.0124 - accuracy: 1.0000 - val_loss: 0.1003 - val_accuracy: 0.9500\n",
      "Epoch 52/100\n",
      "5/5 [==============================] - 0s 23ms/step - loss: 0.0128 - accuracy: 1.0000 - val_loss: 0.0984 - val_accuracy: 0.9500\n",
      "Epoch 53/100\n",
      "5/5 [==============================] - 0s 24ms/step - loss: 0.0068 - accuracy: 1.0000 - val_loss: 0.1159 - val_accuracy: 0.9500\n",
      "Epoch 54/100\n",
      "5/5 [==============================] - 0s 25ms/step - loss: 0.0118 - accuracy: 1.0000 - val_loss: 0.0977 - val_accuracy: 0.9750\n",
      "Epoch 55/100\n",
      "5/5 [==============================] - 0s 23ms/step - loss: 0.0069 - accuracy: 1.0000 - val_loss: 0.0940 - val_accuracy: 0.9750\n",
      "Epoch 56/100\n",
      "5/5 [==============================] - 0s 24ms/step - loss: 0.0081 - accuracy: 1.0000 - val_loss: 0.1218 - val_accuracy: 0.9500\n",
      "Epoch 57/100\n",
      "5/5 [==============================] - 0s 22ms/step - loss: 0.0063 - accuracy: 1.0000 - val_loss: 0.1116 - val_accuracy: 0.9500\n",
      "Epoch 58/100\n",
      "5/5 [==============================] - 0s 24ms/step - loss: 0.0096 - accuracy: 1.0000 - val_loss: 0.0996 - val_accuracy: 0.9750\n",
      "Epoch 59/100\n",
      "5/5 [==============================] - 0s 22ms/step - loss: 0.0066 - accuracy: 1.0000 - val_loss: 0.0970 - val_accuracy: 0.9500\n",
      "Epoch 60/100\n",
      "5/5 [==============================] - 0s 23ms/step - loss: 0.0066 - accuracy: 1.0000 - val_loss: 0.1070 - val_accuracy: 0.9250\n",
      "Epoch 61/100\n",
      "5/5 [==============================] - 0s 24ms/step - loss: 0.0038 - accuracy: 1.0000 - val_loss: 0.0962 - val_accuracy: 0.9750\n",
      "Epoch 62/100\n",
      "5/5 [==============================] - 0s 26ms/step - loss: 0.0049 - accuracy: 1.0000 - val_loss: 0.0992 - val_accuracy: 0.9500\n",
      "Epoch 63/100\n",
      "5/5 [==============================] - 0s 25ms/step - loss: 0.0028 - accuracy: 1.0000 - val_loss: 0.1094 - val_accuracy: 0.9250\n",
      "Epoch 64/100\n",
      "5/5 [==============================] - 0s 25ms/step - loss: 0.0025 - accuracy: 1.0000 - val_loss: 0.1134 - val_accuracy: 0.9500\n",
      "Epoch 65/100\n",
      "5/5 [==============================] - 0s 24ms/step - loss: 0.0043 - accuracy: 1.0000 - val_loss: 0.0987 - val_accuracy: 0.9500\n",
      "Epoch 66/100\n",
      "5/5 [==============================] - 0s 22ms/step - loss: 0.0028 - accuracy: 1.0000 - val_loss: 0.0951 - val_accuracy: 0.9750\n",
      "Epoch 67/100\n",
      "5/5 [==============================] - 0s 22ms/step - loss: 0.0033 - accuracy: 1.0000 - val_loss: 0.0962 - val_accuracy: 0.9500\n",
      "Epoch 68/100\n",
      "5/5 [==============================] - 0s 20ms/step - loss: 0.0048 - accuracy: 1.0000 - val_loss: 0.0976 - val_accuracy: 0.9750\n",
      "Epoch 69/100\n",
      "5/5 [==============================] - 0s 22ms/step - loss: 0.0056 - accuracy: 1.0000 - val_loss: 0.1274 - val_accuracy: 0.9500\n",
      "Epoch 70/100\n",
      "5/5 [==============================] - 0s 22ms/step - loss: 0.0046 - accuracy: 1.0000 - val_loss: 0.1448 - val_accuracy: 0.9250\n",
      "Epoch 71/100\n",
      "5/5 [==============================] - 0s 23ms/step - loss: 0.0041 - accuracy: 1.0000 - val_loss: 0.0937 - val_accuracy: 0.9750\n",
      "Epoch 72/100\n",
      "5/5 [==============================] - 0s 22ms/step - loss: 0.0047 - accuracy: 1.0000 - val_loss: 0.0928 - val_accuracy: 0.9750\n",
      "Epoch 73/100\n",
      "5/5 [==============================] - 0s 24ms/step - loss: 0.0025 - accuracy: 1.0000 - val_loss: 0.1090 - val_accuracy: 0.9250\n",
      "Epoch 74/100\n",
      "5/5 [==============================] - 0s 24ms/step - loss: 0.0029 - accuracy: 1.0000 - val_loss: 0.1257 - val_accuracy: 0.9000\n",
      "Epoch 75/100\n",
      "5/5 [==============================] - 0s 26ms/step - loss: 0.0031 - accuracy: 1.0000 - val_loss: 0.1002 - val_accuracy: 0.9750\n",
      "Epoch 76/100\n",
      "5/5 [==============================] - 0s 25ms/step - loss: 0.0036 - accuracy: 1.0000 - val_loss: 0.0959 - val_accuracy: 0.9750\n",
      "Epoch 77/100\n",
      "5/5 [==============================] - 0s 25ms/step - loss: 0.0102 - accuracy: 0.9937 - val_loss: 0.0954 - val_accuracy: 0.9750\n",
      "Epoch 78/100\n",
      "5/5 [==============================] - 0s 23ms/step - loss: 0.0062 - accuracy: 1.0000 - val_loss: 0.1017 - val_accuracy: 0.9500\n",
      "Epoch 79/100\n",
      "5/5 [==============================] - 0s 23ms/step - loss: 0.0059 - accuracy: 1.0000 - val_loss: 0.1085 - val_accuracy: 0.9500\n",
      "Epoch 80/100\n",
      "5/5 [==============================] - 0s 23ms/step - loss: 0.0063 - accuracy: 1.0000 - val_loss: 0.0929 - val_accuracy: 0.9750\n",
      "Epoch 81/100\n",
      "5/5 [==============================] - 0s 23ms/step - loss: 0.0052 - accuracy: 1.0000 - val_loss: 0.0859 - val_accuracy: 0.9750\n",
      "Epoch 82/100\n",
      "5/5 [==============================] - 0s 22ms/step - loss: 0.0068 - accuracy: 1.0000 - val_loss: 0.1176 - val_accuracy: 0.9250\n",
      "Epoch 83/100\n",
      "5/5 [==============================] - 0s 22ms/step - loss: 0.0035 - accuracy: 1.0000 - val_loss: 0.0826 - val_accuracy: 0.9750\n",
      "Epoch 84/100\n",
      "5/5 [==============================] - 0s 22ms/step - loss: 0.0023 - accuracy: 1.0000 - val_loss: 0.0846 - val_accuracy: 0.9750\n",
      "Epoch 85/100\n",
      "5/5 [==============================] - 0s 24ms/step - loss: 0.0036 - accuracy: 1.0000 - val_loss: 0.0898 - val_accuracy: 0.9500\n",
      "Epoch 86/100\n",
      "5/5 [==============================] - 0s 22ms/step - loss: 0.0029 - accuracy: 1.0000 - val_loss: 0.1103 - val_accuracy: 0.9250\n",
      "Epoch 87/100\n",
      "5/5 [==============================] - 0s 21ms/step - loss: 0.0018 - accuracy: 1.0000 - val_loss: 0.0964 - val_accuracy: 0.9750\n",
      "Epoch 88/100\n",
      "5/5 [==============================] - 0s 23ms/step - loss: 0.0024 - accuracy: 1.0000 - val_loss: 0.1022 - val_accuracy: 0.9500\n",
      "Epoch 89/100\n",
      "5/5 [==============================] - 0s 22ms/step - loss: 0.0031 - accuracy: 1.0000 - val_loss: 0.1127 - val_accuracy: 0.9250\n",
      "Epoch 90/100\n",
      "5/5 [==============================] - 0s 22ms/step - loss: 0.0019 - accuracy: 1.0000 - val_loss: 0.1068 - val_accuracy: 0.9500\n",
      "Epoch 91/100\n",
      "5/5 [==============================] - 0s 22ms/step - loss: 0.0053 - accuracy: 1.0000 - val_loss: 0.1187 - val_accuracy: 0.9250\n",
      "Epoch 92/100\n",
      "5/5 [==============================] - 0s 24ms/step - loss: 0.0026 - accuracy: 1.0000 - val_loss: 0.1071 - val_accuracy: 0.9500\n",
      "Epoch 93/100\n",
      "5/5 [==============================] - 0s 22ms/step - loss: 0.0024 - accuracy: 1.0000 - val_loss: 0.0962 - val_accuracy: 0.9750\n",
      "Epoch 94/100\n",
      "5/5 [==============================] - 0s 22ms/step - loss: 0.0026 - accuracy: 1.0000 - val_loss: 0.0952 - val_accuracy: 0.9500\n",
      "Epoch 95/100\n",
      "5/5 [==============================] - 0s 24ms/step - loss: 0.0041 - accuracy: 1.0000 - val_loss: 0.0915 - val_accuracy: 0.9750\n",
      "Epoch 96/100\n",
      "5/5 [==============================] - 0s 23ms/step - loss: 0.0020 - accuracy: 1.0000 - val_loss: 0.0963 - val_accuracy: 0.9750\n",
      "Epoch 97/100\n",
      "5/5 [==============================] - 0s 22ms/step - loss: 0.0016 - accuracy: 1.0000 - val_loss: 0.1132 - val_accuracy: 0.9500\n",
      "Epoch 98/100\n",
      "5/5 [==============================] - 0s 23ms/step - loss: 0.0028 - accuracy: 1.0000 - val_loss: 0.0967 - val_accuracy: 0.9750\n",
      "Epoch 99/100\n",
      "5/5 [==============================] - 0s 21ms/step - loss: 0.0013 - accuracy: 1.0000 - val_loss: 0.0963 - val_accuracy: 0.9750\n",
      "Epoch 100/100\n",
      "5/5 [==============================] - 0s 23ms/step - loss: 0.0014 - accuracy: 1.0000 - val_loss: 0.0927 - val_accuracy: 0.9750\n"
     ]
    }
   ],
   "source": [
    "H = model.fit(x_train, y_train, validation_data=(x_test, y_test), \n",
    "          epochs=max_epochs, batch_size=32)"
   ]
  },
  {
   "cell_type": "code",
   "execution_count": 16,
   "metadata": {},
   "outputs": [
    {
     "data": {
      "image/png": "[encoded data removed]",
      "text/plain": [
       "<Figure size 432x288 with 1 Axes>"
      ]
     },
     "metadata": {},
     "output_type": "display_data"
    }
   ],
   "source": [
    "N = np.arange(0, max_epochs)\n",
    "plt.style.use(\"ggplot\")\n",
    "plt.figure()\n",
    "plt.plot(N, H.history[\"loss\"], label=\"train_loss\")\n",
    "plt.plot(N, H.history[\"val_loss\"], label=\"val_loss\")\n",
    "#plt.plot(N, H.history[\"accuracy\"], label=\"train_acc\")\n",
    "#plt.plot(N, H.history[\"val_accuracy\"], label=\"val_acc\")\n",
    "plt.xlabel(\"Epoch #\")\n",
    "plt.legend()\n",
    "plt.show()"
   ]
  },
  {
   "cell_type": "markdown",
   "metadata": {},
   "source": [
    "<h3>7. Evaluate the Model</h3>"
   ]
  },
  {
   "cell_type": "code",
   "execution_count": 17,
   "metadata": {},
   "outputs": [
    {
     "name": "stdout",
     "output_type": "stream",
     "text": [
      "              precision    recall  f1-score   support\n",
      "\n",
      "    elephant       0.95      1.00      0.98        21\n",
      "        lion       1.00      0.95      0.97        19\n",
      "\n",
      "    accuracy                           0.97        40\n",
      "   macro avg       0.98      0.97      0.97        40\n",
      "weighted avg       0.98      0.97      0.97        40\n",
      "\n"
     ]
    },
    {
     "name": "stderr",
     "output_type": "stream",
     "text": [
      "C:\\Users\\dendy\\AppData\\Local\\Temp/ipykernel_2500/954476436.py:3: DeprecationWarning: `np.int` is a deprecated alias for the builtin `int`. To silence this warning, use `int` by itself. Doing this will not modify any behavior and is safe. When replacing `np.int`, you may wish to use e.g. `np.int64` or `np.int32` to specify the precision. If you wish to review your current use, check the release note link for additional information.\n",
      "Deprecated in NumPy 1.20; for more details and guidance: https://numpy.org/devdocs/release/1.20.0-notes.html#deprecations\n",
      "  target = (predictions > 0.5).astype(np.int)\n"
     ]
    }
   ],
   "source": [
    "# menghitung nilai akurasi model terhadap data test\n",
    "predictions = model.predict(x_test, batch_size=32)\n",
    "target = (predictions > 0.5).astype(np.int)\n",
    "print(classification_report(y_test, target, target_names=label_list))"
   ]
  },
  {
   "cell_type": "code",
   "execution_count": 18,
   "metadata": {},
   "outputs": [
    {
     "name": "stdout",
     "output_type": "stream",
     "text": [
      "[[1.]]\n"
     ]
    }
   ],
   "source": [
    "# uji model menggunakan image lain\n",
    "queryPath = imagePaths+'query_lion.jpg'\n",
    "query = cv2.imread(queryPath)\n",
    "output = query.copy()\n",
    "query = cv2.resize(query, (32, 32))\n",
    "q = []\n",
    "q.append(query)\n",
    "q = np.array(q, dtype='float') / 255.0\n",
    "\n",
    "q_pred = model.predict(q)\n",
    "print(q_pred)"
   ]
  },
  {
   "cell_type": "code",
   "execution_count": 19,
   "metadata": {},
   "outputs": [],
   "source": [
    "if q_pred<=0.5 :\n",
    "    target = \"Elephant\"\n",
    "else :\n",
    "    target = \"Lion\"\n",
    "text = \"{}\".format(target)\n",
    "cv2.putText(output, text, (10, 30), cv2.FONT_HERSHEY_SIMPLEX, 0.7, (0, 0, 255), 2)\n",
    " \n",
    "# menampilkan output image\n",
    "cv2.imshow('Output', output)\n",
    "cv2.waitKey() # image tidak akan diclose,sebelum user menekan sembarang tombol\n",
    "cv2.destroyWindow('Output') # image akan diclose"
   ]
  },
  {
   "cell_type": "code",
   "execution_count": null,
   "metadata": {},
   "outputs": [],
   "source": []
  }
 ],
 "metadata": {
  "kernelspec": {
   "display_name": "Python 3",
   "language": "python",
   "name": "python3"
  },
  "language_info": {
   "codemirror_mode": {
    "name": "ipython",
    "version": 3
   },
   "file_extension": ".py",
   "mimetype": "text/x-python",
   "name": "python",
   "nbconvert_exporter": "python",
   "pygments_lexer": "ipython3",
   "version": "3.9.8"
  }
 },
 "nbformat": 4,
 "nbformat_minor": 4
}
